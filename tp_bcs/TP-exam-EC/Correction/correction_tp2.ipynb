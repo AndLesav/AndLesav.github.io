{
 "cells": [
  {
   "cell_type": "markdown",
   "metadata": {},
   "source": [
    "# Exercice 1 : Manipulation de points sur une courbe elliptique\n"
   ]
  },
  {
   "cell_type": "code",
   "execution_count": 6,
   "metadata": {},
   "outputs": [
    {
     "name": "stdout",
     "output_type": "stream",
     "text": [
      "curve order: 24\n",
      "(26 : 4 : 1)\n",
      "point order: 4\n",
      "(3 : 20 : 1)\n",
      "point order: 12\n",
      "(5 : 12 : 1)\n",
      "point order: 12\n",
      "(20 : 12 : 1)\n",
      "point order: 6\n",
      "(15 : 0 : 1)\n",
      "point order: 2\n"
     ]
    }
   ],
   "source": [
    "# Question 1\n",
    "Zp = Zmod(29)\n",
    "E_1 = EllipticCurve(Zp, [-3, 5])\n",
    "\n",
    "\n",
    "print(f\"curve order: {E_1.order()}\")\n",
    "for i in range(5):\n",
    "    P = E_1.random_point()\n",
    "    print(P)\n",
    "    print(f\"point order: {P.order()}\")"
   ]
  },
  {
   "cell_type": "markdown",
   "metadata": {},
   "source": [
    "On remarque que l’ordre du point divise celui du groupe. Ici, le groupe est d’ordre 24, donc l’ordre du point généré peut être 1, 2, 4, 6, 12 ou 24 (ici il n’y a pas de point d’ordre 24)."
   ]
  },
  {
   "cell_type": "markdown",
   "metadata": {},
   "source": [
    "### Question 2\n",
    "Il suffit de suivre les instructions, en se rappelant que les opérations sont faites sur le corps finis"
   ]
  },
  {
   "cell_type": "code",
   "execution_count": 7,
   "metadata": {},
   "outputs": [],
   "source": [
    "def double_point(P, E):\n",
    "    if P.is_zero():\n",
    "        return P\n",
    "    if P[1] == 0:\n",
    "        retu   rn E((0,1,0))\n",
    "    Zp = E.base_field()\n",
    "    lamb = Zp((3*P[0]*P[0] + E.a4())/(2*P[1]))\n",
    "    x = lamb**2 - 2*P[0]\n",
    "    y = lamb*(P[0]-x) - P[1]\n",
    "    \n",
    "    return E((x,y))\n",
    "\n",
    "# add_points handles all cases here. Namely, it calls double_points if P1 == P2\n",
    "def add_points(P1, P2, E):\n",
    "    if P1.is_zero():\n",
    "        return P2\n",
    "    if P2.is_zero():\n",
    "        return P1\n",
    "    if P1 == P2:\n",
    "        return double_point(P, E)\n",
    "    if P1 == -P2:\n",
    "        return E((0,1,0))\n",
    "    Zp = E.base_field()\n",
    "    lamb = Zp((P2[1] - P1[1])/(P2[0] - P1[0]))\n",
    "    x = lamb**2 - P1[0] - P2[0]\n",
    "    y = lamb*(P1[0]-x) - P1[1]\n",
    "    \n",
    "    return E((x,y))\n",
    "\n",
    "def scalar_mult(k, P, E):\n",
    "    res = E((0,1,0))\n",
    "    for bit in ZZ(k).bits()[::-1]:\n",
    "        res = double_point(res, E)\n",
    "        if bit == 1:\n",
    "            # carefull, here add_point handle the case res == E, otherwise\n",
    "            # we need to check this edge case\n",
    "            res = add_points(res, P, E)\n",
    "    return res\n",
    "\n",
    "Zp = Zmod(29)\n",
    "E_1 = EllipticCurve(Zp, [-3, 5])\n",
    "for P in E_1:\n",
    "    for Q in E_1:\n",
    "        if P == Q:\n",
    "            res =  double_point(P, E_1)\n",
    "        else:\n",
    "            res = add_points(P, Q, E_1)\n",
    "        if res != P+Q:\n",
    "            print(f\"Error for {P}+{Q}\")\n",
    "    for k in range(P.order()):\n",
    "        if k*P != scalar_mult(k, P, E_1):\n",
    "            print(f\"Error for {k}*{P}\")"
   ]
  },
  {
   "cell_type": "markdown",
   "metadata": {},
   "source": [
    "### Question 3\n",
    "La façon la plus naive de faire (qui ne passe pas à l'échelle sur les courbes utilisées en cryptographie en pratique) est de simplement additionner le points jusqu'à tomber sur le point infini.\n",
    "\n",
    "Une façon un peu plus \"légère\" est de ne tester que les ordres __possibles__, c'est à dire les diviseurs de l'ordre de la courbe."
   ]
  },
  {
   "cell_type": "code",
   "execution_count": 1,
   "metadata": {},
   "outputs": [],
   "source": [
    "def get_point_order(P, E):\n",
    "    for k in E.order().divisors():\n",
    "        if k*P == E.point((0,1,0)):\n",
    "            return k\n",
    "\n",
    "Zp = Zmod(29)\n",
    "E_1 = EllipticCurve(Zp, [-3, 5])\n",
    "for P in E_1:\n",
    "    if get_point_order(P, E_1) != P.order():\n",
    "        print(\"Error\")"
   ]
  },
  {
   "cell_type": "markdown",
   "metadata": {},
   "source": [
    "### Question 4\n",
    "Ici on remarque que pour la courbe $E_2$, qui est d'ordre 31 (un nombre premier), l'ordre des chacun des points est 31 (sauf le point infini). C'est pour ça qu'on choisi généralement des courbes d'ordre premier, ou qu'on prend un sous-groupe de points d'ordre premier (c'est à dire qu'on prend un point de base avec un ordre premier)."
   ]
  },
  {
   "cell_type": "code",
   "execution_count": 9,
   "metadata": {},
   "outputs": [
    {
     "name": "stdout",
     "output_type": "stream",
     "text": [
      "Points in E_1\n",
      "(0 : 1 : 0) order 1\n",
      "(0 : 11 : 1) order 12\n",
      "(0 : 18 : 1) order 12\n",
      "(2 : 6 : 1) order 3\n",
      "(2 : 23 : 1) order 3\n",
      "(3 : 9 : 1) order 12\n",
      "(3 : 20 : 1) order 12\n",
      "(4 : 12 : 1) order 4\n",
      "(4 : 17 : 1) order 4\n",
      "(5 : 12 : 1) order 12\n",
      "(5 : 17 : 1) order 12\n",
      "(6 : 0 : 1) order 2\n",
      "(8 : 0 : 1) order 2\n",
      "(15 : 0 : 1) order 2\n",
      "(16 : 14 : 1) order 6\n",
      "(16 : 15 : 1) order 6\n",
      "(17 : 13 : 1) order 12\n",
      "(17 : 16 : 1) order 12\n",
      "(20 : 12 : 1) order 6\n",
      "(20 : 17 : 1) order 6\n",
      "(26 : 4 : 1) order 4\n",
      "(26 : 25 : 1) order 4\n",
      "(28 : 6 : 1) order 6\n",
      "(28 : 23 : 1) order 6\n",
      "\n",
      "Points in E_2\n",
      "(0 : 1 : 0) order 1\n",
      "(0 : 7 : 1) order 31\n",
      "(0 : 22 : 1) order 31\n",
      "(2 : 13 : 1) order 31\n",
      "(2 : 16 : 1) order 31\n",
      "(7 : 1 : 1) order 31\n",
      "(7 : 28 : 1) order 31\n",
      "(8 : 9 : 1) order 31\n",
      "(8 : 20 : 1) order 31\n",
      "(9 : 8 : 1) order 31\n",
      "(9 : 21 : 1) order 31\n",
      "(11 : 13 : 1) order 31\n",
      "(11 : 16 : 1) order 31\n",
      "(12 : 10 : 1) order 31\n",
      "(12 : 19 : 1) order 31\n",
      "(13 : 4 : 1) order 31\n",
      "(13 : 25 : 1) order 31\n",
      "(15 : 1 : 1) order 31\n",
      "(15 : 28 : 1) order 31\n",
      "(16 : 13 : 1) order 31\n",
      "(16 : 16 : 1) order 31\n",
      "(18 : 4 : 1) order 31\n",
      "(18 : 25 : 1) order 31\n",
      "(20 : 11 : 1) order 31\n",
      "(20 : 18 : 1) order 31\n",
      "(25 : 14 : 1) order 31\n",
      "(25 : 15 : 1) order 31\n",
      "(26 : 12 : 1) order 31\n",
      "(26 : 17 : 1) order 31\n",
      "(27 : 4 : 1) order 31\n",
      "(27 : 25 : 1) order 31\n"
     ]
    }
   ],
   "source": [
    "def is_point_x(x, E):\n",
    "    # We make sure to consider x in Zp\n",
    "    Zp = E.base_field()\n",
    "    x = Zp(x)\n",
    "    tmp = x**3 + E.a4()*x + E.a6()\n",
    "    return tmp.is_square(), tmp\n",
    "\n",
    "# Equivalent to E.points()\n",
    "def gen_all_points(E):\n",
    "    # Don't forget infinity point\n",
    "    points = [E.point((0, 1, 0))]\n",
    "    Zp = E.base_ring()\n",
    "    p = Zp.order()\n",
    "    for x in range(p):\n",
    "        valid, y2 = is_point_x(x, E)\n",
    "        if valid:\n",
    "            y = y2.sqrt()\n",
    "            points.append(E.point((x, y)))\n",
    "            if y != 0:\n",
    "                points.append(E.point((x, -y)))\n",
    "    return points\n",
    "\n",
    "Zp = Zmod(29)\n",
    "\n",
    "E_1 = EllipticCurve(Zp, [-3, 5])\n",
    "print(\"Points in E_1\")\n",
    "for P in gen_all_points(E_1):\n",
    "    print(f\"{P} order {P.order()}\")\n",
    "    \n",
    "E_2 = EllipticCurve(Zp, [-2, 20])\n",
    "print(\"\\nPoints in E_2\")\n",
    "for P in gen_all_points(E_2):\n",
    "    print(f\"{P} order {P.order()}\")"
   ]
  },
  {
   "cell_type": "markdown",
   "metadata": {},
   "source": [
    "### Question 5\n",
    "\n",
    "Ici l'ordre $\\ell$ de la courbe se factorise en $743 \\times 69511034407065278854542476309161687$, il n'est donc pas premier. L'ordre d'un point peut prendre n'importe quel diviseur de $\\ell$.\n",
    "\n",
    "Ici le point $P$ est d'ordre 743, ce qui est clairement insuffisant pour apporter une quelconque sécurité au regard du problème du logarithme discret : un attaquant peut simplement tester les 742 valeurs de $k$ pour retrouver la valeur secrète.\n",
    "\n",
    "Utiliser un point d'ordre $\\ell$ n'est pas suffisant non plus. Les algorithme génériques pour résoudre ECDLP tournent en $\\mathcal{O}(\\sqrt n)$. Ici $n = \\ell \\approx 2^{125}$. Une telle coubre offre donc, au mieux, $125/2 = 62.5$ bits de sécurité (on cherche au minimum 128 bits en cryptographie moderne).\n"
   ]
  },
  {
   "cell_type": "code",
   "execution_count": 10,
   "metadata": {},
   "outputs": [
    {
     "name": "stdout",
     "output_type": "stream",
     "text": [
      "l = 51646698564449502188925059897707133441 = 743 * 69511034407065278854542476309161687\n",
      "Ordre possible d'un point:  [1, 743, 69511034407065278854542476309161687, 51646698564449502188925059897707133441]\n",
      "743\n",
      "order bit length: 126\n"
     ]
    }
   ],
   "source": [
    "Zp = Zmod(51646698564449502183630508998684683453)\n",
    "E_3 = EllipticCurve(Zp, [-3, 6])\n",
    "print(\"l =\", E_3.order(), \"=\", factor(E_3.order()))\n",
    "print(\"Ordre possible d'un point: \", E_3.order().divisors())\n",
    "\n",
    "P = E_3((5866391592011188692732729142407841644, 50082992786731864883063206566493560050))\n",
    "print(P.order())\n",
    "print(\"order bit length:\", len(E_3.order().bits()))"
   ]
  },
  {
   "cell_type": "markdown",
   "metadata": {},
   "source": [
    "# Exercice 2 : ECDSA\n",
    "\n",
    "Multiples sources disponibles en ligne. Gardez en tête que [intégrité $\\neq$ authenticité](https://security.stackexchange.com/questions/93322/difference-between-authentication-integrity-and-data-origin-authentication).\n",
    "\n",
    "L’idée est que ECDSA est une fonction de signature, permettant d’authentifier un message. C’est à dire qu’un utilisateur ayant une clé $(d, P)$, avec $d$ privé et $P = d \\times G$ publique, peut signer\n",
    "un message $m$ à l’aide de sa clé privée. La signature consiste en deux entiers $(r, s)$, considérés publiques.\n",
    "Tout utilisateur en possession du message $m$, de la clé publique $P$ et de la signature $(r, s)$ est en mesure de vérifier si la signature est valide.\n",
    "\n",
    "\n"
   ]
  },
  {
   "cell_type": "code",
   "execution_count": 11,
   "metadata": {},
   "outputs": [],
   "source": [
    "from hashlib import sha256\n",
    "\n",
    "def ecdsa_sign(m, d, n, G):\n",
    "    h = int(sha256(m.encode()).digest().hex(), 16)\n",
    "    r = 0\n",
    "    s = 0\n",
    "    while s == 0:\n",
    "        while r == 0:\n",
    "            k = Integer(randint(1, n))    # Should be a call to a CSPRNG, not randint\n",
    "            Q = k*G\n",
    "            r = int(Q[0]) % n\n",
    "        s = int(k.inverse_mod(n) * (h + d*r)) % n\n",
    "    return r, s\n",
    "\n",
    "def ecdsa_verify(m, r, s, P, n, G, curve):\n",
    "    # Check the public key\n",
    "    if P.is_zero() or not P in curve or not (n*P).is_zero():\n",
    "        return False\n",
    "\n",
    "    if not (1 <= r,s < n):\n",
    "        return False\n",
    "\n",
    "    h = int(sha256(m.encode()).digest().hex(), 16)\n",
    "    s_inv = s.inverse_mod(n)\n",
    "    scal1 = (h * s_inv) % n\n",
    "    scal2 = (r * s_inv) % n\n",
    "    Q = scal1*G + scal2*P\n",
    "\n",
    "    return Q[0] == r % n\n",
    "\n",
    "# NIST's P-256 parameters\n",
    "p = 2**256 - 2**224 + 2**192 + 2**96 - 1 #  prime defining the field\n",
    "# y^ = x^3 + ax + b\n",
    "a = -3\n",
    "b = 41058363725152142129326129780047268409114441015993725554835256314039467401291\n",
    "Gx = 0x6B17D1F2E12C4247F8BCE6E563A440F277037D812DEB33A0F4A13945D898C296\n",
    "Gy = 0x4FE342E2FE1A7F9B8EE7EB4A7C0F9E162BCE33576B315ECECBB6406837BF51F5\n",
    "n = 115792089210356248762697446949407573529996955224135760342422259061068512044369 # G's order\n",
    "\n",
    "# Create the curve and the generator on sage\n",
    "P256 = EllipticCurve(Zmod(p), [a, b])\n",
    "G = P256([Gx, Gy])\n",
    "\n",
    "# Private key, use appropriate CSPRNG in practice! \n",
    "d = randint(2, n-1)\n",
    "P = d*G\n",
    "\n",
    "m = \"Test message\"\n",
    "r, s = ecdsa_sign(m, d, n, G)\n",
    "if not ecdsa_verify(m, r, s, P, n, G, P256):\n",
    "    print(\"Error in verification\")"
   ]
  },
  {
   "cell_type": "markdown",
   "metadata": {},
   "source": [
    "Le nonce est effictivement sensible. Il doit être secret, et différent pour chaque signature effectuée avec la même clé. Toute fuite d’information (même quelques bits) sur le nonce compromet la confidentialité de la clé privée."
   ]
  },
  {
   "cell_type": "markdown",
   "metadata": {},
   "source": [
    "# Exercice 3 : Attaques sur ECDSA \n",
    "\n",
    "Définissons les notations suivantes :\n",
    "\n",
    "— $k$ est le nonce\n",
    "\n",
    "— $G$ est le point générateur, publique, utilisé par tout les utilisateur de la courbe $P256$. $G$ est d’ordre $n$ et $P256$ est définie sur $Z/pZ$.\n",
    "\n",
    "— La bi-clé d’un utilisateur $A$ est notée $(d_A, P_A)$ avec $P_A = d_A × G$.\n",
    "\n",
    "— Si $P = (x, y)$ est un point sur la courbe, $Px$ désigne sa coordonée en $x$.\n"
   ]
  },
  {
   "cell_type": "markdown",
   "metadata": {},
   "source": [
    "Si le nonce est connu par l'attaquant, il peut directement retrouver la clé privée :\n",
    "\n",
    "Sachant que $s = k^{-1}(h(m) + d\\times r) \\bmod n$, la seule inconnue est $d$, la clé privée. On peut simplement inverser les opérations une par une pour arriver au résultat (toute les opération si dessous sont effectuées modulo $n$):\n",
    "\t\t\t\\begin{align*}\n",
    "\t\t\t\t& s = k^{-1}(h(m) + d\\times r)\\\\\n",
    "\t\t\t\t& s\\times k = h(m) + d\\times r\\\\\n",
    "\t\t\t\t& s\\times k - h(m) = d\\times r\\\\\n",
    "\t\t\t\t& (s\\times k - h(m))r^{-1} = d\n",
    "\t\t\t\\end{align*}"
   ]
  },
  {
   "cell_type": "code",
   "execution_count": 12,
   "metadata": {},
   "outputs": [
    {
     "name": "stdout",
     "output_type": "stream",
     "text": [
      "The private key is 0xe5f5a8f342537d97da4a1c6ff7014c1b4a9167c46e05779da1bcf172d49602a1\n",
      "The private key we found fits the public key P\n"
     ]
    }
   ],
   "source": [
    "from hashlib import sha256\n",
    "\n",
    "# NIST's P-256 parameters\n",
    "p = 2**256 - 2**224 + 2**192 + 2**96 - 1 #  prime defining the field\n",
    "# y^ = x^3 + ax + b\n",
    "a = -3\n",
    "b = 41058363725152142129326129780047268409114441015993725554835256314039467401291\n",
    "Gx = 0x6B17D1F2E12C4247F8BCE6E563A440F277037D812DEB33A0F4A13945D898C296\n",
    "Gy = 0x4FE342E2FE1A7F9B8EE7EB4A7C0F9E162BCE33576B315ECECBB6406837BF51F5\n",
    "n = 115792089210356248762697446949407573529996955224135760342422259061068512044369 # G's order\n",
    "\n",
    "# Create the curve and the generator on sage\n",
    "P256 = EllipticCurve(Zmod(p), [a, b])\n",
    "G = P256([Gx, Gy])\n",
    "\n",
    "# Public key to verify the signatures \n",
    "P = P256(0x7453873d3b072c061d03c3d09aba344b6a25f406a3dad40b0281025824bda4a3, 0x9e41b56ecaaf199fbb6d33fb2d748ec454c128aa7be74a1998cf57de34b7988b)\n",
    "\n",
    "m1 = \"Message important\"\n",
    "r1 = 0x62286e65a6703cdff07b19dba56c34c84d9be61edfac86b347d7fc337615a3bf\n",
    "s1 = 0xc4926a0932e3d1f6aeec3c6a55926aaa73911c2b7a1325b2cc2e45ed70271578\n",
    "k1 = 0x7963d7dadb13b6c53864c267dad2e94e52c00e41eaabd03c6f5c559ef912722b\n",
    "\n",
    "# Knowing k, we can simply reverse the operations to recover d\n",
    "h = int(sha256(m1.encode()).digest().hex(), 16)\n",
    "d1 = (s1 * k1 - h )*r1.inverse_mod(n) % n\n",
    "print(\"The private key is\", hex(d1))\n",
    "\n",
    "if d1*G == P:\n",
    "    print(\"The private key we found fits the public key P\")\n",
    "else:\n",
    "    print(\"The private key we found does not fit the public key P\")"
   ]
  },
  {
   "cell_type": "markdown",
   "metadata": {},
   "source": [
    "Si un nonce est réutilisé, on peut s'en rendre compte facilement en regardant la valeur de $r$ dans les signatures. En effet, comme $r$ est la coordonnée en $x$ de $k\\times P$, utiliser le même nonce donne la même valeur de $r$.\n",
    "\n",
    "À partir de là, l'attaquant peut retrouver la clé privée à partir des deux messages et des signatures correspondantes.\n",
    "\n",
    "On sait que $r_1 = r_2 = r$. $s_1 = k^{-1}(h(m_1) + d\\times r)$ et $s_2 = k^{-1}(h(m_2) + d\\times r)$.\n",
    "\tEn soustrayant les deux valeurs de $s_1$ et $s_2$, on peut retrouver la valeur du nonce. À partir de là, la même attaque s'applique.\n",
    "    \n",
    "Les opérations ci-dessous sont toutes effectuées modulo $n$.\n",
    "\t\t\t\\begin{align*}\n",
    "\t\t\t\ts_1 -s_2 & = k^{-1}(h(m_1) + d\\times r) -  k^{-1}(h(m_2) + d\\times r) \\\\\n",
    "\t\t\t\t& = k^{-1}(h(m_1) -  h(m_2))\\\\\n",
    "\t\t\t\t\\Rightarrow k & = (s_1 -s_2)^{-1} \\times (h(m_1)-h(m_2))\n",
    "\t\t\t\\end{align*}"
   ]
  },
  {
   "cell_type": "code",
   "execution_count": 13,
   "metadata": {},
   "outputs": [
    {
     "name": "stdout",
     "output_type": "stream",
     "text": [
      "The private key is 0xe5f5a8f342537d97da4a1c6ff7014c1b4a9167c46e05779da1bcf172d49602a1\n",
      "The private key we found fits the public key P\n"
     ]
    }
   ],
   "source": [
    "from hashlib import sha256\n",
    "\n",
    "def ecdsa_sign(m, d, n, G):\n",
    "    h = int(sha256(m.encode()).digest().hex(), 16)\n",
    "    r = 0\n",
    "    s = 0\n",
    "    while s == 0:\n",
    "        while r == 0:\n",
    "            k = Integer(randint(1, n))    # Should be a call to a CSPRNG, not randint\n",
    "            Q = k*G\n",
    "            r = int(Q[0]) % n\n",
    "        s = int(k.inverse_mod(n) * (h + d*r)) % n\n",
    "    return r, s\n",
    "\n",
    "def ecdsa_verify(m, r, s, P, n, G, curve):\n",
    "    # Check the public key\n",
    "    if P.is_zero() or not P in curve or not (n*P).is_zero():\n",
    "        return False\n",
    "\n",
    "    if not (1 <= r,s < n):\n",
    "        return False\n",
    "\n",
    "    h = int(sha256(m.encode()).digest().hex(), 16)\n",
    "    s_inv = s.inverse_mod(n)\n",
    "    scal1 = (h * s_inv) % n\n",
    "    scal2 = (r * s_inv) % n\n",
    "    Q = scal1*G + scal2*P\n",
    "\n",
    "    return Q[0] == r % n\n",
    "\n",
    "# NIST's P-256 parameters\n",
    "p = 2**256 - 2**224 + 2**192 + 2**96 - 1 #  prime defining the field\n",
    "# y^ = x^3 + ax + b\n",
    "a = -3\n",
    "b = 41058363725152142129326129780047268409114441015993725554835256314039467401291\n",
    "Gx = 0x6B17D1F2E12C4247F8BCE6E563A440F277037D812DEB33A0F4A13945D898C296\n",
    "Gy = 0x4FE342E2FE1A7F9B8EE7EB4A7C0F9E162BCE33576B315ECECBB6406837BF51F5\n",
    "n = 115792089210356248762697446949407573529996955224135760342422259061068512044369 # G's order\n",
    "\n",
    "# Create the curve and the generator on sage\n",
    "P256 = EllipticCurve(Zmod(p), [a, b])\n",
    "G = P256([Gx, Gy])\n",
    "\n",
    "# Public key to verify the signatures \n",
    "P = P256(0x7453873d3b072c061d03c3d09aba344b6a25f406a3dad40b0281025824bda4a3, 0x9e41b56ecaaf199fbb6d33fb2d748ec454c128aa7be74a1998cf57de34b7988b)\n",
    "\n",
    "\n",
    "m2_1 = \"Deux messages différents,  signés utilisant le même nonce \"\n",
    "r2_1 = 0xa6b2cbe4982361d0132b720c698ae5cb866271aa3f39b564018848a3bb7fbe07\n",
    "s2_1 = 0x700f22bbdaa2027936bff58819fa674a2ff83ff120d18990b6cddc933b87fd89\n",
    "m2_2 = \"sont facilement reconnaissables par leur signature. \"\n",
    "r2_2 = 0xd76446168b18bc500812599efb6e37e9bf4467614f943aa55901ef1f3a1a57ef\n",
    "s2_2 = 0x947016dd00edd5bab0a2c91dbeff335bbe4b22449c91cb20a3766ed80aa32bd1\n",
    "m2_3 = \"Il est alors possible de retrouver une information secrète...\"\n",
    "r2_3 = 0xa6b2cbe4982361d0132b720c698ae5cb866271aa3f39b564018848a3bb7fbe07\n",
    "s2_3 = 0x1437dd0ebd91efcebe8bf7d93c8a4a5ba3b7a900bf1a1a37da20a3a1e7a4d8fa\n",
    "\n",
    "# We can notice that r2_1 = r2_3, and r comes from the result of k*G. Hence, \n",
    "# r2_1 = r2_3 implies k2_1 = k2_3. From there, we can easily recover the key.\n",
    "h1 = int(sha256(m2_1.encode()).digest().hex(), 16)\n",
    "h3 = int(sha256(m2_3.encode()).digest().hex(), 16)\n",
    "k = ((s2_1-s2_3).inverse_mod(n) * (h1-h3)) % n\n",
    "d2 = (s2_1*k - h1)*r2_1.inverse_mod(n) % n\n",
    "print(\"The private key is\", hex(d2))\n",
    "\n",
    "if d2*G == P:\n",
    "    print(\"The private key we found fits the public key P\")\n",
    "else:\n",
    "    print(\"The private key we found does not fit the public key P\")\n"
   ]
  },
  {
   "cell_type": "code",
   "execution_count": null,
   "metadata": {},
   "outputs": [],
   "source": []
  }
 ],
 "metadata": {
  "kernelspec": {
   "display_name": "SageMath 9.0",
   "language": "sage",
   "name": "sagemath"
  },
  "language_info": {
   "codemirror_mode": {
    "name": "ipython",
    "version": 3
   },
   "file_extension": ".py",
   "mimetype": "text/x-python",
   "name": "python",
   "nbconvert_exporter": "python",
   "pygments_lexer": "ipython3",
   "version": "3.8.10"
  }
 },
 "nbformat": 4,
 "nbformat_minor": 4
}
